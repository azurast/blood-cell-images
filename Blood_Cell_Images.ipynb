{
  "nbformat": 4,
  "nbformat_minor": 0,
  "metadata": {
    "colab": {
      "name": "Blood Cell Images.ipynb",
      "provenance": [],
      "collapsed_sections": [],
      "authorship_tag": "ABX9TyOYR2l42rqAs5nTpTTDF4DG",
      "include_colab_link": true
    },
    "kernelspec": {
      "name": "python3",
      "display_name": "Python 3"
    }
  },
  "cells": [
    {
      "cell_type": "markdown",
      "metadata": {
        "id": "view-in-github",
        "colab_type": "text"
      },
      "source": [
        "<a href=\"https://colab.research.google.com/github/azurast/blood-cell-images/blob/master/Blood_Cell_Images.ipynb\" target=\"_parent\"><img src=\"https://colab.research.google.com/assets/colab-badge.svg\" alt=\"Open In Colab\"/></a>"
      ]
    },
    {
      "cell_type": "markdown",
      "metadata": {
        "id": "Lq_zzmGP4JIe",
        "colab_type": "text"
      },
      "source": [
        "## Import Libraries & Modules"
      ]
    },
    {
      "cell_type": "code",
      "metadata": {
        "id": "LtaqUYw72SJO",
        "colab_type": "code",
        "colab": {}
      },
      "source": [
        "import numpy as np\n",
        "import pandas as pd\n",
        "import sklearn\n",
        "import matplotlib.pyplot as plt"
      ],
      "execution_count": 0,
      "outputs": []
    },
    {
      "cell_type": "markdown",
      "metadata": {
        "id": "oN6oawKYH02W",
        "colab_type": "text"
      },
      "source": [
        "## Authorization"
      ]
    },
    {
      "cell_type": "code",
      "metadata": {
        "id": "wK-6cOq8B9th",
        "colab_type": "code",
        "colab": {}
      },
      "source": [
        "# Import PyDrive and associated libraries.\n",
        "# This only needs to be done once per notebook.\n",
        "from pydrive.auth import GoogleAuth\n",
        "from pydrive.drive import GoogleDrive\n",
        "from google.colab import auth\n",
        "from oauth2client.client import GoogleCredentials\n",
        "\n",
        "# Authenticate and create the PyDrive client.\n",
        "# This only needs to be done once per notebook.\n",
        "auth.authenticate_user()\n",
        "gauth = GoogleAuth()\n",
        "gauth.credentials = GoogleCredentials.get_application_default()\n",
        "drive = GoogleDrive(gauth)"
      ],
      "execution_count": 0,
      "outputs": []
    },
    {
      "cell_type": "markdown",
      "metadata": {
        "id": "idizXdnBH4X5",
        "colab_type": "text"
      },
      "source": [
        "# Read data from Google Drive"
      ]
    },
    {
      "cell_type": "code",
      "metadata": {
        "id": "S7yBfwrdD8ZD",
        "colab_type": "code",
        "colab": {
          "base_uri": "https://localhost:8080/",
          "height": 36
        },
        "outputId": "d50a745b-ccd9-4be3-9b78-6baa6b43f5c3"
      },
      "source": [
        "# For directory reasons\n",
        "from google.colab import  drive\n",
        "drive.mount('/content/drive/')"
      ],
      "execution_count": 3,
      "outputs": [
        {
          "output_type": "stream",
          "text": [
            "Drive already mounted at /content/drive/; to attempt to forcibly remount, call drive.mount(\"/content/drive/\", force_remount=True).\n"
          ],
          "name": "stdout"
        }
      ]
    },
    {
      "cell_type": "markdown",
      "metadata": {
        "id": "Bc-ysjzkM2PJ",
        "colab_type": "text"
      },
      "source": [
        "## Image Data"
      ]
    },
    {
      "cell_type": "code",
      "metadata": {
        "id": "M1c6sJggGEDB",
        "colab_type": "code",
        "colab": {}
      },
      "source": [
        "# Path to training & testing images\n",
        "train_path = '/content/drive/My Drive/Colab Notebooks/UAS-ML/blood-cells/dataset2-master/dataset2-master/images/TRAIN'\n",
        "test_path = '/content/drive/My Drive/Colab Notebooks/UAS-ML/blood-cells/dataset2-master/dataset2-master/images/TEST'\n",
        "test_simple_path = '/content/drive/My Drive/Colab Notebooks/UAS-ML/blood-cells/dataset2-master/dataset2-master/images/TEST-SIMPLE'"
      ],
      "execution_count": 0,
      "outputs": []
    },
    {
      "cell_type": "code",
      "metadata": {
        "id": "nNIKQLF2JnLx",
        "colab_type": "code",
        "colab": {
          "base_uri": "https://localhost:8080/",
          "height": 189
        },
        "outputId": "f6188060-b654-4fc0-b43a-5cac97d1af78"
      },
      "source": [
        "import os\n",
        "# Get the number of training & testing data\n",
        "total_all_training = 0\n",
        "print('TRAINING DATA\\n')\n",
        "print('Class\\t\\t Number of Data')\n",
        "for category in os.listdir(train_path):\n",
        "  total_category = len(os.listdir(os.path.join(train_path, category)))\n",
        "  total_all_training += total_category\n",
        "  print('{:15s}   {:d} '. format(category, total_category))\n",
        "print('\\nTOTAL TRAINING DATA: {:d}'.format(total_all_training))"
      ],
      "execution_count": 5,
      "outputs": [
        {
          "output_type": "stream",
          "text": [
            "TRAINING DATA\n",
            "\n",
            "Class\t\t Number of Data\n",
            "EOSINOPHIL        0 \n",
            "LYMPHOCYTE        0 \n",
            "MONOCYTE          0 \n",
            "NEUTROPHIL        817 \n",
            "\n",
            "TOTAL TRAINING DATA: 817\n"
          ],
          "name": "stdout"
        }
      ]
    },
    {
      "cell_type": "code",
      "metadata": {
        "id": "em_0cIeTMDYS",
        "colab_type": "code",
        "colab": {
          "base_uri": "https://localhost:8080/",
          "height": 189
        },
        "outputId": "4e5211c6-a343-405e-d34a-54e03535c8d6"
      },
      "source": [
        "total_all_testing = 0\n",
        "print('TESTING DATA\\n')\n",
        "print('Class\\t\\t Number of Data')\n",
        "for category in os.listdir(test_path):\n",
        "  total_category = len(os.listdir(os.path.join(test_path, category)))\n",
        "  total_all_testing += total_category\n",
        "  print('{:15s}   {:d} '. format(category, total_category))\n",
        "print('\\nTOTAL TESTING DATA: {:d}'.format(total_all_testing))"
      ],
      "execution_count": 6,
      "outputs": [
        {
          "output_type": "stream",
          "text": [
            "TESTING DATA\n",
            "\n",
            "Class\t\t Number of Data\n",
            "MONOCYTE          620 \n",
            "EOSINOPHIL        623 \n",
            "LYMPHOCYTE        620 \n",
            "NEUTROPHIL        624 \n",
            "\n",
            "TOTAL TESTING DATA: 2487\n"
          ],
          "name": "stdout"
        }
      ]
    },
    {
      "cell_type": "code",
      "metadata": {
        "id": "23_AWj-TGfbA",
        "colab_type": "code",
        "colab": {}
      },
      "source": [
        "# The dataset has images with dimension 320 & 240, with the ram available i dont think its necessary to resize\n",
        "img_size = [320,240]"
      ],
      "execution_count": 0,
      "outputs": []
    },
    {
      "cell_type": "code",
      "metadata": {
        "id": "cA5i3L-XCYCH",
        "colab_type": "code",
        "colab": {
          "base_uri": "https://localhost:8080/",
          "height": 255
        },
        "outputId": "e0ba1317-50ff-46dc-8138-4d1be45c6aac"
      },
      "source": [
        "# Read File from Google Drive\n",
        "file_id = '17DsuHPdvofVnVJrMuD_JPXe1gf4rP-LN'\n",
        "downloaded = drive.CreateFile({'id': file_id})\n",
        "downloaded.GetContentFile('labels.csv')\n",
        "df = pd.read_csv('labels.csv')\n",
        "df"
      ],
      "execution_count": 8,
      "outputs": [
        {
          "output_type": "error",
          "ename": "AttributeError",
          "evalue": "ignored",
          "traceback": [
            "\u001b[0;31m---------------------------------------------------------------------------\u001b[0m",
            "\u001b[0;31mAttributeError\u001b[0m                            Traceback (most recent call last)",
            "\u001b[0;32m<ipython-input-8-50a87fde5595>\u001b[0m in \u001b[0;36m<module>\u001b[0;34m()\u001b[0m\n\u001b[1;32m      1\u001b[0m \u001b[0mfile_id\u001b[0m \u001b[0;34m=\u001b[0m \u001b[0;34m'17DsuHPdvofVnVJrMuD_JPXe1gf4rP-LN'\u001b[0m\u001b[0;34m\u001b[0m\u001b[0;34m\u001b[0m\u001b[0m\n\u001b[0;32m----> 2\u001b[0;31m \u001b[0mdownloaded\u001b[0m \u001b[0;34m=\u001b[0m \u001b[0mdrive\u001b[0m\u001b[0;34m.\u001b[0m\u001b[0mCreateFile\u001b[0m\u001b[0;34m(\u001b[0m\u001b[0;34m{\u001b[0m\u001b[0;34m'id'\u001b[0m\u001b[0;34m:\u001b[0m \u001b[0mfile_id\u001b[0m\u001b[0;34m}\u001b[0m\u001b[0;34m)\u001b[0m\u001b[0;34m\u001b[0m\u001b[0;34m\u001b[0m\u001b[0m\n\u001b[0m\u001b[1;32m      3\u001b[0m \u001b[0mdownloaded\u001b[0m\u001b[0;34m.\u001b[0m\u001b[0mGetContentFile\u001b[0m\u001b[0;34m(\u001b[0m\u001b[0;34m'labels.csv'\u001b[0m\u001b[0;34m)\u001b[0m\u001b[0;34m\u001b[0m\u001b[0;34m\u001b[0m\u001b[0m\n\u001b[1;32m      4\u001b[0m \u001b[0mdf\u001b[0m \u001b[0;34m=\u001b[0m \u001b[0mpd\u001b[0m\u001b[0;34m.\u001b[0m\u001b[0mread_csv\u001b[0m\u001b[0;34m(\u001b[0m\u001b[0;34m'labels.csv'\u001b[0m\u001b[0;34m)\u001b[0m\u001b[0;34m\u001b[0m\u001b[0;34m\u001b[0m\u001b[0m\n\u001b[1;32m      5\u001b[0m \u001b[0mdf\u001b[0m\u001b[0;34m\u001b[0m\u001b[0;34m\u001b[0m\u001b[0m\n",
            "\u001b[0;31mAttributeError\u001b[0m: module 'google.colab.drive' has no attribute 'CreateFile'"
          ]
        }
      ]
    },
    {
      "cell_type": "code",
      "metadata": {
        "id": "ji3xfWuwCiV2",
        "colab_type": "code",
        "colab": {}
      },
      "source": [
        "# Drop the empty column\n",
        "df = df.drop(df.columns[0],axis=1)\n",
        "df"
      ],
      "execution_count": 0,
      "outputs": []
    },
    {
      "cell_type": "code",
      "metadata": {
        "id": "LCnIJqGsDMM9",
        "colab_type": "code",
        "colab": {}
      },
      "source": [
        "# Check for missing values\n",
        "df.isnull().sum()"
      ],
      "execution_count": 0,
      "outputs": []
    },
    {
      "cell_type": "code",
      "metadata": {
        "id": "1tpfpP7nJQrI",
        "colab_type": "code",
        "colab": {}
      },
      "source": [
        "# Import PyTorch module\n",
        "import torch.nn as nn"
      ],
      "execution_count": 0,
      "outputs": []
    },
    {
      "cell_type": "code",
      "metadata": {
        "id": "AblK0gl-JSMs",
        "colab_type": "code",
        "colab": {}
      },
      "source": [
        ""
      ],
      "execution_count": 0,
      "outputs": []
    }
  ]
}